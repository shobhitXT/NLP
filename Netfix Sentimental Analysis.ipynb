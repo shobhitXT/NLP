{
 "cells": [
  {
   "cell_type": "code",
   "execution_count": 17,
   "metadata": {
    "ExecuteTime": {
     "end_time": "2021-08-02T14:48:15.124403Z",
     "start_time": "2021-08-02T14:48:15.112468Z"
    }
   },
   "outputs": [],
   "source": [
    "import pandas as pd\n",
    "import numpy as np\n",
    "import string\n",
    "import nltk\n",
    "from nltk.corpus import stopwords\n",
    "from sklearn.feature_extraction.text import TfidfVectorizer,CountVectorizer\n",
    "from sklearn.model_selection import train_test_split\n",
    "from nltk.stem import WordNetLemmatizer"
   ]
  },
  {
   "cell_type": "code",
   "execution_count": 18,
   "metadata": {
    "ExecuteTime": {
     "end_time": "2021-08-02T14:48:23.647374Z",
     "start_time": "2021-08-02T14:48:23.626390Z"
    }
   },
   "outputs": [],
   "source": [
    "sw=stopwords.words('english')\n",
    "lemma=WordNetLemmatizer()"
   ]
  },
  {
   "cell_type": "code",
   "execution_count": 3,
   "metadata": {
    "ExecuteTime": {
     "end_time": "2021-08-02T14:42:12.803374Z",
     "start_time": "2021-08-02T14:42:11.784045Z"
    }
   },
   "outputs": [],
   "source": [
    "pos_rev=pd.read_csv('pos.txt',sep='\\n',encoding='latin-1',header=None)"
   ]
  },
  {
   "cell_type": "code",
   "execution_count": 4,
   "metadata": {
    "ExecuteTime": {
     "end_time": "2021-08-02T14:42:12.915147Z",
     "start_time": "2021-08-02T14:42:12.809361Z"
    }
   },
   "outputs": [],
   "source": [
    "pos_rev['mood']=1"
   ]
  },
  {
   "cell_type": "code",
   "execution_count": 5,
   "metadata": {
    "ExecuteTime": {
     "end_time": "2021-08-02T14:42:13.071298Z",
     "start_time": "2021-08-02T14:42:12.917101Z"
    }
   },
   "outputs": [],
   "source": [
    "pos_rev.rename(columns={0:'review'},inplace=True)"
   ]
  },
  {
   "cell_type": "code",
   "execution_count": 6,
   "metadata": {
    "ExecuteTime": {
     "end_time": "2021-08-02T14:42:13.227237Z",
     "start_time": "2021-08-02T14:42:13.074295Z"
    }
   },
   "outputs": [
    {
     "data": {
      "text/html": [
       "<div>\n",
       "<style scoped>\n",
       "    .dataframe tbody tr th:only-of-type {\n",
       "        vertical-align: middle;\n",
       "    }\n",
       "\n",
       "    .dataframe tbody tr th {\n",
       "        vertical-align: top;\n",
       "    }\n",
       "\n",
       "    .dataframe thead th {\n",
       "        text-align: right;\n",
       "    }\n",
       "</style>\n",
       "<table border=\"1\" class=\"dataframe\">\n",
       "  <thead>\n",
       "    <tr style=\"text-align: right;\">\n",
       "      <th></th>\n",
       "      <th>review</th>\n",
       "      <th>mood</th>\n",
       "    </tr>\n",
       "  </thead>\n",
       "  <tbody>\n",
       "    <tr>\n",
       "      <th>0</th>\n",
       "      <td>the rock is destined to be the 21st century's ...</td>\n",
       "      <td>1</td>\n",
       "    </tr>\n",
       "    <tr>\n",
       "      <th>1</th>\n",
       "      <td>the gorgeously elaborate continuation of \" the...</td>\n",
       "      <td>1</td>\n",
       "    </tr>\n",
       "    <tr>\n",
       "      <th>2</th>\n",
       "      <td>effective but too-tepid biopic</td>\n",
       "      <td>1</td>\n",
       "    </tr>\n",
       "    <tr>\n",
       "      <th>3</th>\n",
       "      <td>if you sometimes like to go to the movies to h...</td>\n",
       "      <td>1</td>\n",
       "    </tr>\n",
       "    <tr>\n",
       "      <th>4</th>\n",
       "      <td>emerges as something rare , an issue movie tha...</td>\n",
       "      <td>1</td>\n",
       "    </tr>\n",
       "    <tr>\n",
       "      <th>...</th>\n",
       "      <td>...</td>\n",
       "      <td>...</td>\n",
       "    </tr>\n",
       "    <tr>\n",
       "      <th>5326</th>\n",
       "      <td>both exuberantly romantic and serenely melanch...</td>\n",
       "      <td>1</td>\n",
       "    </tr>\n",
       "    <tr>\n",
       "      <th>5327</th>\n",
       "      <td>mazel tov to a film about a family's joyous li...</td>\n",
       "      <td>1</td>\n",
       "    </tr>\n",
       "    <tr>\n",
       "      <th>5328</th>\n",
       "      <td>standing in the shadows of motown is the best ...</td>\n",
       "      <td>1</td>\n",
       "    </tr>\n",
       "    <tr>\n",
       "      <th>5329</th>\n",
       "      <td>it's nice to see piscopo again after all these...</td>\n",
       "      <td>1</td>\n",
       "    </tr>\n",
       "    <tr>\n",
       "      <th>5330</th>\n",
       "      <td>provides a porthole into that noble , tremblin...</td>\n",
       "      <td>1</td>\n",
       "    </tr>\n",
       "  </tbody>\n",
       "</table>\n",
       "<p>5331 rows × 2 columns</p>\n",
       "</div>"
      ],
      "text/plain": [
       "                                                 review  mood\n",
       "0     the rock is destined to be the 21st century's ...     1\n",
       "1     the gorgeously elaborate continuation of \" the...     1\n",
       "2                        effective but too-tepid biopic     1\n",
       "3     if you sometimes like to go to the movies to h...     1\n",
       "4     emerges as something rare , an issue movie tha...     1\n",
       "...                                                 ...   ...\n",
       "5326  both exuberantly romantic and serenely melanch...     1\n",
       "5327  mazel tov to a film about a family's joyous li...     1\n",
       "5328  standing in the shadows of motown is the best ...     1\n",
       "5329  it's nice to see piscopo again after all these...     1\n",
       "5330  provides a porthole into that noble , tremblin...     1\n",
       "\n",
       "[5331 rows x 2 columns]"
      ]
     },
     "execution_count": 6,
     "metadata": {},
     "output_type": "execute_result"
    }
   ],
   "source": [
    "pos_rev"
   ]
  },
  {
   "cell_type": "code",
   "execution_count": 7,
   "metadata": {
    "ExecuteTime": {
     "end_time": "2021-08-02T14:42:13.397359Z",
     "start_time": "2021-08-02T14:42:13.231225Z"
    }
   },
   "outputs": [],
   "source": [
    "neg_rev=pd.read_csv('negative.txt',sep='\\n',encoding='latin-1',header=None)\n",
    "neg_rev['mood']=0\n",
    "neg_rev.rename(columns={0:'review'},inplace=True)"
   ]
  },
  {
   "cell_type": "code",
   "execution_count": 8,
   "metadata": {
    "ExecuteTime": {
     "end_time": "2021-08-02T14:42:13.567421Z",
     "start_time": "2021-08-02T14:42:13.402171Z"
    }
   },
   "outputs": [
    {
     "data": {
      "text/html": [
       "<div>\n",
       "<style scoped>\n",
       "    .dataframe tbody tr th:only-of-type {\n",
       "        vertical-align: middle;\n",
       "    }\n",
       "\n",
       "    .dataframe tbody tr th {\n",
       "        vertical-align: top;\n",
       "    }\n",
       "\n",
       "    .dataframe thead th {\n",
       "        text-align: right;\n",
       "    }\n",
       "</style>\n",
       "<table border=\"1\" class=\"dataframe\">\n",
       "  <thead>\n",
       "    <tr style=\"text-align: right;\">\n",
       "      <th></th>\n",
       "      <th>review</th>\n",
       "      <th>mood</th>\n",
       "    </tr>\n",
       "  </thead>\n",
       "  <tbody>\n",
       "    <tr>\n",
       "      <th>0</th>\n",
       "      <td>simplistic , silly and tedious.</td>\n",
       "      <td>0</td>\n",
       "    </tr>\n",
       "    <tr>\n",
       "      <th>1</th>\n",
       "      <td>it's so laddish and juvenile , only teenage bo...</td>\n",
       "      <td>0</td>\n",
       "    </tr>\n",
       "    <tr>\n",
       "      <th>2</th>\n",
       "      <td>exploitative and largely devoid of the depth o...</td>\n",
       "      <td>0</td>\n",
       "    </tr>\n",
       "    <tr>\n",
       "      <th>3</th>\n",
       "      <td>[garbus] discards the potential for pathologic...</td>\n",
       "      <td>0</td>\n",
       "    </tr>\n",
       "    <tr>\n",
       "      <th>4</th>\n",
       "      <td>a visually flashy but narratively opaque and e...</td>\n",
       "      <td>0</td>\n",
       "    </tr>\n",
       "    <tr>\n",
       "      <th>...</th>\n",
       "      <td>...</td>\n",
       "      <td>...</td>\n",
       "    </tr>\n",
       "    <tr>\n",
       "      <th>5326</th>\n",
       "      <td>a terrible movie that some people will neverth...</td>\n",
       "      <td>0</td>\n",
       "    </tr>\n",
       "    <tr>\n",
       "      <th>5327</th>\n",
       "      <td>there are many definitions of 'time waster' bu...</td>\n",
       "      <td>0</td>\n",
       "    </tr>\n",
       "    <tr>\n",
       "      <th>5328</th>\n",
       "      <td>as it stands , crocodile hunter has the hurrie...</td>\n",
       "      <td>0</td>\n",
       "    </tr>\n",
       "    <tr>\n",
       "      <th>5329</th>\n",
       "      <td>the thing looks like a made-for-home-video qui...</td>\n",
       "      <td>0</td>\n",
       "    </tr>\n",
       "    <tr>\n",
       "      <th>5330</th>\n",
       "      <td>enigma is well-made , but it's just too dry an...</td>\n",
       "      <td>0</td>\n",
       "    </tr>\n",
       "  </tbody>\n",
       "</table>\n",
       "<p>5331 rows × 2 columns</p>\n",
       "</div>"
      ],
      "text/plain": [
       "                                                 review  mood\n",
       "0                      simplistic , silly and tedious.      0\n",
       "1     it's so laddish and juvenile , only teenage bo...     0\n",
       "2     exploitative and largely devoid of the depth o...     0\n",
       "3     [garbus] discards the potential for pathologic...     0\n",
       "4     a visually flashy but narratively opaque and e...     0\n",
       "...                                                 ...   ...\n",
       "5326  a terrible movie that some people will neverth...     0\n",
       "5327  there are many definitions of 'time waster' bu...     0\n",
       "5328  as it stands , crocodile hunter has the hurrie...     0\n",
       "5329  the thing looks like a made-for-home-video qui...     0\n",
       "5330  enigma is well-made , but it's just too dry an...     0\n",
       "\n",
       "[5331 rows x 2 columns]"
      ]
     },
     "execution_count": 8,
     "metadata": {},
     "output_type": "execute_result"
    }
   ],
   "source": [
    "neg_rev"
   ]
  },
  {
   "cell_type": "code",
   "execution_count": 9,
   "metadata": {
    "ExecuteTime": {
     "end_time": "2021-08-02T14:42:13.708327Z",
     "start_time": "2021-08-02T14:42:13.572253Z"
    }
   },
   "outputs": [],
   "source": [
    "# lower case\n",
    "pos_rev['review']=pos_rev['review'].apply(lambda x:x.lower())"
   ]
  },
  {
   "cell_type": "code",
   "execution_count": 11,
   "metadata": {
    "ExecuteTime": {
     "end_time": "2021-08-02T14:42:15.652847Z",
     "start_time": "2021-08-02T14:42:13.948491Z"
    }
   },
   "outputs": [],
   "source": [
    "# remove punctuations\n",
    "pos_rev['review']=pos_rev['review'].apply(lambda x:' '.join([i for i in nltk.word_tokenize(x) if i not in string.punctuation]))"
   ]
  },
  {
   "cell_type": "code",
   "execution_count": 14,
   "metadata": {
    "ExecuteTime": {
     "end_time": "2021-08-02T14:44:49.021459Z",
     "start_time": "2021-08-02T14:44:47.924694Z"
    }
   },
   "outputs": [],
   "source": [
    "# remove stopwords\n",
    "pos_rev['review']=pos_rev['review'].apply(lambda x:' '.join([i for i in nltk.word_tokenize(x) if i not in sw]))"
   ]
  },
  {
   "cell_type": "code",
   "execution_count": 20,
   "metadata": {
    "ExecuteTime": {
     "end_time": "2021-08-02T14:50:06.128676Z",
     "start_time": "2021-08-02T14:50:03.874761Z"
    },
    "scrolled": true
   },
   "outputs": [],
   "source": [
    "# lemmatize\n",
    "pos_rev['review']=pos_rev['review'].apply(lambda x:lemma.lemmatize(x))"
   ]
  },
  {
   "cell_type": "code",
   "execution_count": 22,
   "metadata": {
    "ExecuteTime": {
     "end_time": "2021-08-02T14:52:18.636949Z",
     "start_time": "2021-08-02T14:52:16.111112Z"
    }
   },
   "outputs": [],
   "source": [
    "# lower case\n",
    "neg_rev['review']=neg_rev['review'].apply(lambda x:x.lower())\n",
    "# remove punctuations\n",
    "neg_rev['review']=neg_rev['review'].apply(lambda x:' '.join([i for i in nltk.word_tokenize(x) if i not in string.punctuation]))\n",
    "# remove stopwords\n",
    "neg_rev['review']=neg_rev['review'].apply(lambda x:' '.join([i for i in nltk.word_tokenize(x) if i not in sw]))\n",
    "# lemmatize\n",
    "neg_rev['review']=neg_rev['review'].apply(lambda x:lemma.lemmatize(x))"
   ]
  },
  {
   "cell_type": "code",
   "execution_count": 24,
   "metadata": {
    "ExecuteTime": {
     "end_time": "2021-08-02T14:55:17.447699Z",
     "start_time": "2021-08-02T14:55:17.384866Z"
    }
   },
   "outputs": [
    {
     "data": {
      "text/html": [
       "<div>\n",
       "<style scoped>\n",
       "    .dataframe tbody tr th:only-of-type {\n",
       "        vertical-align: middle;\n",
       "    }\n",
       "\n",
       "    .dataframe tbody tr th {\n",
       "        vertical-align: top;\n",
       "    }\n",
       "\n",
       "    .dataframe thead th {\n",
       "        text-align: right;\n",
       "    }\n",
       "</style>\n",
       "<table border=\"1\" class=\"dataframe\">\n",
       "  <thead>\n",
       "    <tr style=\"text-align: right;\">\n",
       "      <th></th>\n",
       "      <th>index</th>\n",
       "      <th>review</th>\n",
       "      <th>mood</th>\n",
       "    </tr>\n",
       "  </thead>\n",
       "  <tbody>\n",
       "    <tr>\n",
       "      <th>0</th>\n",
       "      <td>0</td>\n",
       "      <td>rock destined 21st century 's new `` conan `` ...</td>\n",
       "      <td>1</td>\n",
       "    </tr>\n",
       "    <tr>\n",
       "      <th>1</th>\n",
       "      <td>1</td>\n",
       "      <td>gorgeously elaborate continuation `` lord ring...</td>\n",
       "      <td>1</td>\n",
       "    </tr>\n",
       "    <tr>\n",
       "      <th>2</th>\n",
       "      <td>2</td>\n",
       "      <td>effective too-tepid biopic</td>\n",
       "      <td>1</td>\n",
       "    </tr>\n",
       "    <tr>\n",
       "      <th>3</th>\n",
       "      <td>3</td>\n",
       "      <td>sometimes like go movies fun wasabi good place...</td>\n",
       "      <td>1</td>\n",
       "    </tr>\n",
       "    <tr>\n",
       "      <th>4</th>\n",
       "      <td>4</td>\n",
       "      <td>emerges something rare issue movie 's honest k...</td>\n",
       "      <td>1</td>\n",
       "    </tr>\n",
       "    <tr>\n",
       "      <th>...</th>\n",
       "      <td>...</td>\n",
       "      <td>...</td>\n",
       "      <td>...</td>\n",
       "    </tr>\n",
       "    <tr>\n",
       "      <th>10657</th>\n",
       "      <td>5326</td>\n",
       "      <td>terrible movie people nevertheless find moving</td>\n",
       "      <td>0</td>\n",
       "    </tr>\n",
       "    <tr>\n",
       "      <th>10658</th>\n",
       "      <td>5327</td>\n",
       "      <td>many definitions 'time waster movie must surel...</td>\n",
       "      <td>0</td>\n",
       "    </tr>\n",
       "    <tr>\n",
       "      <th>10659</th>\n",
       "      <td>5328</td>\n",
       "      <td>stands crocodile hunter hurried badly cobbled ...</td>\n",
       "      <td>0</td>\n",
       "    </tr>\n",
       "    <tr>\n",
       "      <th>10660</th>\n",
       "      <td>5329</td>\n",
       "      <td>thing looks like made-for-home-video quickie</td>\n",
       "      <td>0</td>\n",
       "    </tr>\n",
       "    <tr>\n",
       "      <th>10661</th>\n",
       "      <td>5330</td>\n",
       "      <td>enigma well-made 's dry placid</td>\n",
       "      <td>0</td>\n",
       "    </tr>\n",
       "  </tbody>\n",
       "</table>\n",
       "<p>10662 rows × 3 columns</p>\n",
       "</div>"
      ],
      "text/plain": [
       "       index                                             review  mood\n",
       "0          0  rock destined 21st century 's new `` conan `` ...     1\n",
       "1          1  gorgeously elaborate continuation `` lord ring...     1\n",
       "2          2                         effective too-tepid biopic     1\n",
       "3          3  sometimes like go movies fun wasabi good place...     1\n",
       "4          4  emerges something rare issue movie 's honest k...     1\n",
       "...      ...                                                ...   ...\n",
       "10657   5326     terrible movie people nevertheless find moving     0\n",
       "10658   5327  many definitions 'time waster movie must surel...     0\n",
       "10659   5328  stands crocodile hunter hurried badly cobbled ...     0\n",
       "10660   5329       thing looks like made-for-home-video quickie     0\n",
       "10661   5330                     enigma well-made 's dry placid     0\n",
       "\n",
       "[10662 rows x 3 columns]"
      ]
     },
     "execution_count": 24,
     "metadata": {},
     "output_type": "execute_result"
    }
   ],
   "source": [
    "# connecting the dATA SETS\n",
    "common_rev=pd.concat([pos_rev,neg_rev],axis=0).reset_index()\n",
    "common_rev"
   ]
  },
  {
   "cell_type": "code",
   "execution_count": 26,
   "metadata": {
    "ExecuteTime": {
     "end_time": "2021-08-02T14:58:14.563470Z",
     "start_time": "2021-08-02T14:58:14.540532Z"
    }
   },
   "outputs": [],
   "source": [
    "x_train,x_test,y_train,y_test=train_test_split(common_rev['review'].values,common_rev['mood'].values,test_size=0.2,random_state=42)"
   ]
  },
  {
   "cell_type": "code",
   "execution_count": 29,
   "metadata": {
    "ExecuteTime": {
     "end_time": "2021-08-02T15:04:40.718056Z",
     "start_time": "2021-08-02T15:04:40.703094Z"
    }
   },
   "outputs": [],
   "source": [
    "train_data = pd.DataFrame({'review' : x_train , 'mood':y_train})\n",
    "test_data = pd.DataFrame({'review' : x_test , 'mood':y_test})"
   ]
  },
  {
   "cell_type": "code",
   "execution_count": 31,
   "metadata": {
    "ExecuteTime": {
     "end_time": "2021-08-02T15:06:42.906577Z",
     "start_time": "2021-08-02T15:06:42.686729Z"
    }
   },
   "outputs": [],
   "source": [
    "vector=TfidfVectorizer()\n",
    "train_vectors=vector.fit_transform(train_data['review'])\n",
    "test_vectors=vector.transform(test_data['review'])"
   ]
  },
  {
   "cell_type": "code",
   "execution_count": 33,
   "metadata": {
    "ExecuteTime": {
     "end_time": "2021-08-02T15:08:04.525252Z",
     "start_time": "2021-08-02T15:08:04.519308Z"
    }
   },
   "outputs": [],
   "source": [
    "from sklearn.svm import SVC"
   ]
  },
  {
   "cell_type": "code",
   "execution_count": 36,
   "metadata": {
    "ExecuteTime": {
     "end_time": "2021-08-02T15:09:37.131904Z",
     "start_time": "2021-08-02T15:09:11.348854Z"
    }
   },
   "outputs": [
    {
     "data": {
      "text/plain": [
       "SVC()"
      ]
     },
     "execution_count": 36,
     "metadata": {},
     "output_type": "execute_result"
    }
   ],
   "source": [
    "# model training\n",
    "classifier=SVC()\n",
    "classifier.fit(train_vectors,train_data['mood'])"
   ]
  },
  {
   "cell_type": "code",
   "execution_count": 38,
   "metadata": {
    "ExecuteTime": {
     "end_time": "2021-08-02T15:12:22.112276Z",
     "start_time": "2021-08-02T15:12:18.909388Z"
    }
   },
   "outputs": [
    {
     "data": {
      "text/plain": [
       "array([0, 1, 1, ..., 1, 1, 0], dtype=int64)"
      ]
     },
     "execution_count": 38,
     "metadata": {},
     "output_type": "execute_result"
    }
   ],
   "source": [
    "# Predictions\n",
    "pred=classifier.predict(test_vectors)\n",
    "pred"
   ]
  },
  {
   "cell_type": "code",
   "execution_count": 41,
   "metadata": {
    "ExecuteTime": {
     "end_time": "2021-08-02T15:15:12.517003Z",
     "start_time": "2021-08-02T15:15:12.484475Z"
    }
   },
   "outputs": [
    {
     "data": {
      "text/plain": [
       "{'0': {'precision': 0.7504604051565378,\n",
       "  'recall': 0.7609710550887021,\n",
       "  'f1-score': 0.7556791840519239,\n",
       "  'support': 1071},\n",
       " '1': {'precision': 0.7554918815663801,\n",
       "  'recall': 0.7448210922787194,\n",
       "  'f1-score': 0.7501185395922237,\n",
       "  'support': 1062},\n",
       " 'accuracy': 0.7529301453352086,\n",
       " 'macro avg': {'precision': 0.752976143361459,\n",
       "  'recall': 0.7528960736837107,\n",
       "  'f1-score': 0.7528988618220738,\n",
       "  'support': 2133},\n",
       " 'weighted avg': {'precision': 0.7529655284323242,\n",
       "  'recall': 0.7529301453352086,\n",
       "  'f1-score': 0.7529105931394993,\n",
       "  'support': 2133}}"
      ]
     },
     "execution_count": 41,
     "metadata": {},
     "output_type": "execute_result"
    }
   ],
   "source": [
    "from sklearn.metrics import classification_report\n",
    "classification_report(test_data['mood'],pred,output_dict=True)"
   ]
  },
  {
   "cell_type": "code",
   "execution_count": null,
   "metadata": {},
   "outputs": [],
   "source": []
  }
 ],
 "metadata": {
  "kernelspec": {
   "display_name": "Python 3",
   "language": "python",
   "name": "python3"
  },
  "language_info": {
   "codemirror_mode": {
    "name": "ipython",
    "version": 3
   },
   "file_extension": ".py",
   "mimetype": "text/x-python",
   "name": "python",
   "nbconvert_exporter": "python",
   "pygments_lexer": "ipython3",
   "version": "3.8.5"
  }
 },
 "nbformat": 4,
 "nbformat_minor": 4
}
